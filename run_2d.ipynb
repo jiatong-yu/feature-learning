{
 "cells": [
  {
   "cell_type": "code",
   "execution_count": null,
   "metadata": {},
   "outputs": [],
   "source": [
    "import torch\n",
    "import torch.nn as nn\n",
    "import torch.optim as optim\n",
    "import matplotlib.pyplot as plt\n",
    "import imageio\n",
    "import os\n",
    "import numpy as np\n",
    "\n",
    "class CustomModel(nn.Module):\n",
    "    def __init__(self, input_dim, output_dim):\n",
    "        super(CustomModel, self).__init__()\n",
    "        self.fc = nn.Linear(input_dim, output_dim, bias=False)\n",
    "\n",
    "    def forward(self, x):\n",
    "        x = self.fc(x)\n",
    "        return torch.relu(x).sum(dim=1)\n",
    "\n",
    "def plot_weights(weights, epoch, folder='weight_plots_2d'):\n",
    "    if not os.path.exists(folder):\n",
    "        os.makedirs(folder)\n",
    "    \n",
    "    plt.figure(figsize=(8, 6))\n",
    "    for i in range(weights.shape[0]):\n",
    "        plt.scatter(weights[i, 0], weights[i, 1], label=f'w_{i}')\n",
    "    plt.xlim([-0.02,0.06])\n",
    "    plt.ylim([-0.02,0.06])\n",
    "    plt.axhline(0, color='black',linewidth=0.5) \n",
    "    plt.axvline(0, color='black',linewidth=0.5) \n",
    "    plt.xlabel('x')\n",
    "    plt.ylabel('y')\n",
    "    plt.title(f'Epoch {epoch}')\n",
    "    # plt.legend()\n",
    "    plt.grid(True,linestyle='--')\n",
    "    plt.savefig(f'{folder}/epoch_{epoch}.png')\n",
    "    plt.close()"
   ]
  },
  {
   "cell_type": "code",
   "execution_count": null,
   "metadata": {},
   "outputs": [],
   "source": [
    "d = 300 \n",
    "m = 50 \n",
    "n_samples = 50000  \n",
    "\n",
    "X = torch.randn(n_samples, d)\n",
    "y = torch.relu(X[:, 0]) + torch.relu(X[:, 1])\n",
    "\n",
    "model = CustomModel(d, m)\n",
    "\n",
    "\n",
    "with torch.no_grad():\n",
    "    model.fc.weight.data.normal_(0, 1e-15)\n",
    "\n",
    "criterion = nn.MSELoss()\n",
    "optimizer = optim.SGD(model.parameters(), lr=0.01)\n",
    "\n",
    "print_epoch = [0,1,2,3,4,5,10,15,20,25,30,35,40,45,50,100,150,200,400,600,800]"
   ]
  },
  {
   "cell_type": "code",
   "execution_count": null,
   "metadata": {},
   "outputs": [],
   "source": [
    "epochs = 1000\n",
    "weight_records = []\n",
    "for epoch in range(epochs):\n",
    "    outputs = model(X)\n",
    "    loss = criterion(outputs, y)\n",
    "    optimizer.zero_grad()\n",
    "    loss.backward()\n",
    "    optimizer.step()\n",
    "\n",
    "    if epoch in print_epoch:\n",
    "        print(f'Epoch [{epoch}/{epochs}], Loss: {loss.item()}')\n",
    "        current_weights = model.fc.weight.data[:, :2].numpy()\n",
    "        weight_records.append(current_weights)\n",
    "        plot_weights(current_weights, epoch)"
   ]
  },
  {
   "cell_type": "code",
   "execution_count": null,
   "metadata": {},
   "outputs": [],
   "source": [
    "folder = 'weight_plots_2d'\n",
    "def sort_epoch(filenames):\n",
    "    return sorted(filenames, key=lambda x: int(x.split('_')[1].split('.')[0]))\n",
    "png_files = [f for f in os.listdir(folder) if f.endswith('.png')]\n",
    "file_names = sort_epoch(png_files)\n",
    "image_paths = [os.path.join(folder, file) for file in file_names if file.endswith('.png')]\n",
    "images = [imageio.imread(path) for path in image_paths]\n",
    "gif_path = 'weight_evolution_2d.gif'\n",
    "imageio.mimsave(gif_path, images, fps=8)\n"
   ]
  },
  {
   "cell_type": "code",
   "execution_count": null,
   "metadata": {},
   "outputs": [],
   "source": []
  }
 ],
 "metadata": {
  "kernelspec": {
   "display_name": ".venv-22fall",
   "language": "python",
   "name": "python3"
  },
  "language_info": {
   "codemirror_mode": {
    "name": "ipython",
    "version": 3
   },
   "file_extension": ".py",
   "mimetype": "text/x-python",
   "name": "python",
   "nbconvert_exporter": "python",
   "pygments_lexer": "ipython3",
   "version": "3.10.13"
  }
 },
 "nbformat": 4,
 "nbformat_minor": 2
}
